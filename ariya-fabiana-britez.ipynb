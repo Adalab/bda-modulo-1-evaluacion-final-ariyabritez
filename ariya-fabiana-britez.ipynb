{
 "cells": [
  {
   "cell_type": "code",
   "execution_count": 130,
   "id": "3d4fe1fa",
   "metadata": {},
   "outputs": [],
   "source": [
    "inventario = {\"nombre\": [], \"precio\": [], \"cantidad\": []}\n"
   ]
  },
  {
   "cell_type": "code",
   "execution_count": 131,
   "id": "58fb5d0d",
   "metadata": {},
   "outputs": [],
   "source": [
    "clientes = {\n",
    "    \"Ana García\": {'email': 'ana.garcia@email.com','compras': []}, \n",
    "    \"Luis Fernández\": {'email': 'luis.fernandez@email.com', 'compras':[]},\n",
    "    \"María López\": {'email': 'maria.lopez@email.com', 'compras': []}, \n",
    "    \"Carlos Ruiz\": {'email': 'carlos.ruiz@email.com', 'compras': []},\n",
    "    \"Elena Martín\": {'email': 'elena.martin@email.com', 'compras': []},\n",
    "    \"Javier Torres\": {'email': 'javier.torres@email.com', 'compras': []},\n",
    "    \"Lucía Sánchez\": {'email': 'lucia.sanchez@email.com', 'compras': []},\n",
    "    \"Sergio Díaz\": {'email': 'sergio.diaz@email.com', 'compras': []},\n",
    "    \"Patricia Ramos\": {'email': 'patricia.ramos@email.com', 'compras':[]},\n",
    "    \"Diego Navarro\": {'email': 'diego.navarro@email.com', 'compras': []}\n",
    "    }"
   ]
  },
  {
   "cell_type": "code",
   "execution_count": 132,
   "id": "1ffa1478",
   "metadata": {},
   "outputs": [],
   "source": [
    "ventas_totales = 0"
   ]
  },
  {
   "cell_type": "code",
   "execution_count": 133,
   "id": "4f8080ba",
   "metadata": {},
   "outputs": [],
   "source": [
    "#2 FUNCIONES\n",
    "\n",
    "inventario = [\n",
    "    {'nombre': 'Camisa', 'precio': 20, 'cantidad': 40},\n",
    "    {'nombre': 'Pantalón', 'precio': 30, 'cantidad': 30},\n",
    "    {'nombre': 'Zapatos', 'precio': 50, 'cantidad': 25},\n",
    "    {'nombre': 'Chaqueta', 'precio': 70, 'cantidad': 15},\n",
    "    {'nombre': 'Falda', 'precio': 25, 'cantidad': 20},\n",
    "    {'nombre': 'Gorra', 'precio': 10, 'cantidad': 50},\n",
    "    {'nombre': 'Bufanda', 'precio': 15, 'cantidad': 35},\n",
    "    {'nombre': 'Calcetines', 'precio': 5, 'cantidad': 100},\n",
    "    {'nombre': 'Cinturón', 'precio': 12, 'cantidad': 40},\n",
    "    {'nombre': 'Bolso', 'precio': 45, 'cantidad': 18}\n",
    "    ]\n"
   ]
  },
  {
   "cell_type": "code",
   "execution_count": 134,
   "id": "0810dc45",
   "metadata": {},
   "outputs": [
    {
     "name": "stdout",
     "output_type": "stream",
     "text": [
      "Producto Pashmina agregado al inventario.\n"
     ]
    }
   ],
   "source": [
    "# agregar_producto(nombre, precio, cantidad):\n",
    "# Agrega un producto al inventario o actualiza su cantidad si ya existe. \n",
    "# Debe recibir el nombre, precio y cantidad del producto como parámetros. \n",
    "# Itera a través del inventario y compara los nombres de los productos con el nombre proporcionado.\n",
    "\n",
    "# Si el producto ya existe, actualiza la cantidad. \n",
    "# Si no existe, agrega un nuevo producto al inventario.\n",
    "\n",
    "\n",
    "def agregar_producto(nombre, precio, cantidad):\n",
    "    for producto in inventario:\n",
    "        if producto[\"nombre\"].strip().lower() == nombre.strip().lower():\n",
    "            producto[\"cantidad\"] += cantidad\n",
    "            print(f\"Producto {producto[\"nombre\"]}:{producto[\"cantidad\"]} actualizado en inventario\")\n",
    "            return   \n",
    "\n",
    "inventario.append({'nombre': 'Pashmina', 'precio': 25, 'cantidad': 8})\n",
    "print(f\"Producto {\"Pashmina\"} agregado al inventario.\")\n",
    "\n"
   ]
  },
  {
   "cell_type": "code",
   "execution_count": 135,
   "id": "7152da82",
   "metadata": {},
   "outputs": [
    {
     "name": "stdout",
     "output_type": "stream",
     "text": [
      "Nombre: Camisa\n",
      "Precio: 20\n",
      "Cantidad: 40\n",
      "-----\n",
      "Nombre: Pantalón\n",
      "Precio: 30\n",
      "Cantidad: 30\n",
      "-----\n",
      "Nombre: Zapatos\n",
      "Precio: 50\n",
      "Cantidad: 25\n",
      "-----\n",
      "Nombre: Chaqueta\n",
      "Precio: 70\n",
      "Cantidad: 15\n",
      "-----\n",
      "Nombre: Falda\n",
      "Precio: 25\n",
      "Cantidad: 20\n",
      "-----\n",
      "Nombre: Gorra\n",
      "Precio: 10\n",
      "Cantidad: 50\n",
      "-----\n",
      "Nombre: Bufanda\n",
      "Precio: 15\n",
      "Cantidad: 35\n",
      "-----\n",
      "Nombre: Calcetines\n",
      "Precio: 5\n",
      "Cantidad: 100\n",
      "-----\n",
      "Nombre: Cinturón\n",
      "Precio: 12\n",
      "Cantidad: 40\n",
      "-----\n",
      "Nombre: Bolso\n",
      "Precio: 45\n",
      "Cantidad: 18\n",
      "-----\n",
      "Nombre: Pashmina\n",
      "Precio: 25\n",
      "Cantidad: 8\n",
      "-----\n"
     ]
    }
   ],
   "source": [
    "# ver_inventario(): Muestra el inventario de productos con sus detalles.\n",
    "\n",
    "for producto in inventario:\n",
    "    print(\"Nombre:\", producto[\"nombre\"])\n",
    "    print(\"Precio:\", producto[\"precio\"])\n",
    "    print(\"Cantidad:\", producto[\"cantidad\"])\n",
    "    print (\"-----\")"
   ]
  },
  {
   "cell_type": "code",
   "execution_count": 136,
   "id": "83aac03f",
   "metadata": {},
   "outputs": [
    {
     "name": "stdout",
     "output_type": "stream",
     "text": [
      "Producto encontrado: Camisa, Precio: $20, Cantidad: 40\n"
     ]
    }
   ],
   "source": [
    "# EJ 3. buscar_producto(nombre): Busca un producto en el inventario por nombre y muestra sus detalles si se encuentra. \n",
    "# Debe recibir el nombre del producto como parámetro. \n",
    "# Utiliza un bucle for para recorrer el inventario. \n",
    "# Compara los nombres de los productos con el nombre proporcionado. \n",
    "# Si se encuentra el producto, imprime sus detalles.\n",
    "# Debe mostrar: Nombre: Camisa, Precio: $20, Cantidad: 40\n",
    "\n",
    "nombre_proporcionado = \"Camisa\"\n",
    "\n",
    "for producto in inventario:\n",
    "    if producto[\"nombre\"].strip().lower() == nombre_proporcionado.strip().lower():\n",
    "        print(f\"Producto encontrado: {producto[\"nombre\"]}, Precio: ${producto['precio']}, Cantidad: {producto['cantidad']}\")\n",
    "        break\n",
    "\n",
    "else:\n",
    "    print(\"Producto no encontrado.\")\n"
   ]
  },
  {
   "cell_type": "code",
   "execution_count": 137,
   "id": "7e6b1a05",
   "metadata": {},
   "outputs": [
    {
     "name": "stdout",
     "output_type": "stream",
     "text": [
      "Stock actualizado. Nuevo stock de Gorra: 67\n",
      "[{'nombre': 'Camisa', 'precio': 20, 'cantidad': 40}, {'nombre': 'Pantalón', 'precio': 30, 'cantidad': 30}, {'nombre': 'Zapatos', 'precio': 50, 'cantidad': 25}, {'nombre': 'Chaqueta', 'precio': 70, 'cantidad': 15}, {'nombre': 'Falda', 'precio': 25, 'cantidad': 20}, {'nombre': 'Gorra', 'precio': 10, 'cantidad': 67}, {'nombre': 'Bufanda', 'precio': 15, 'cantidad': 35}, {'nombre': 'Calcetines', 'precio': 5, 'cantidad': 100}, {'nombre': 'Cinturón', 'precio': 12, 'cantidad': 40}, {'nombre': 'Bolso', 'precio': 45, 'cantidad': 18}, {'nombre': 'Pashmina', 'precio': 25, 'cantidad': 8}]\n"
     ]
    }
   ],
   "source": [
    "# EJ 4. actualizar_stock(nombre, cantidad): Actualiza el stock de un producto en el inventario.\n",
    "# Debe recibir el nombre del producto y la cantidad a agregar o quitar como parámetros.\n",
    "# Utiliza un bucle for para recorrer el inventario.\n",
    "# Busca el producto por nombre.\n",
    "# Actualiza la cantidad según la entrada del usuario.\n",
    "# Si el producto no esta en el inventario muestra un mensaje indicándolo.\n",
    "\n",
    "def actualizar_stock(nombre, cantidad):\n",
    "    for producto in inventario:\n",
    "        if producto[\"nombre\"].strip().lower() == nombre.strip().lower():\n",
    "            producto[\"cantidad\"] += cantidad\n",
    "            print(f\"Stock actualizado. Nuevo stock de {producto[\"nombre\"]}: {producto[\"cantidad\"]}\")\n",
    "            break\n",
    "    else:\n",
    "        print(\"Producto no encontrado en el inventario.\")\n",
    "\n",
    "actualizar_stock (\"Gorra\", 17)\n",
    "print (inventario)"
   ]
  },
  {
   "cell_type": "code",
   "execution_count": 138,
   "id": "7dd67754",
   "metadata": {},
   "outputs": [
    {
     "name": "stdout",
     "output_type": "stream",
     "text": [
      "Producto Pantalón eliminado con éxito\n",
      "[{'nombre': 'Camisa', 'precio': 20, 'cantidad': 40}, {'nombre': 'Zapatos', 'precio': 50, 'cantidad': 25}, {'nombre': 'Chaqueta', 'precio': 70, 'cantidad': 15}, {'nombre': 'Falda', 'precio': 25, 'cantidad': 20}, {'nombre': 'Gorra', 'precio': 10, 'cantidad': 67}, {'nombre': 'Bufanda', 'precio': 15, 'cantidad': 35}, {'nombre': 'Calcetines', 'precio': 5, 'cantidad': 100}, {'nombre': 'Cinturón', 'precio': 12, 'cantidad': 40}, {'nombre': 'Bolso', 'precio': 45, 'cantidad': 18}, {'nombre': 'Pashmina', 'precio': 25, 'cantidad': 8}]\n"
     ]
    }
   ],
   "source": [
    "# EJ 5. eliminar_producto(nombre): Elimina un producto del inventario por nombre. \n",
    "# Debe recibir el nombre del producto como parámetro.\n",
    "# Utiliza un bucle for para recorrer el inventario.\n",
    "# Busca el producto por nombre.\n",
    "# Elimina el producto del inventario si existe.\n",
    "# Si el producto no esta en el inventario muestra un mensaje indicándolo.\n",
    "\n",
    "def eliminar_producto (nombre):\n",
    "    for producto in inventario:\n",
    "        if producto [\"nombre\"].strip().lower() == nombre.strip().lower():\n",
    "            inventario.remove(producto)\n",
    "            print (f\"Producto {producto[\"nombre\"]} eliminado con éxito\")\n",
    "            break\n",
    "\n",
    "eliminar_producto (\"Pantalón\")\n",
    "print (inventario)\n"
   ]
  },
  {
   "cell_type": "code",
   "execution_count": null,
   "id": "901a6ca0",
   "metadata": {},
   "outputs": [],
   "source": []
  }
 ],
 "metadata": {
  "kernelspec": {
   "display_name": "Python 3",
   "language": "python",
   "name": "python3"
  },
  "language_info": {
   "codemirror_mode": {
    "name": "ipython",
    "version": 3
   },
   "file_extension": ".py",
   "mimetype": "text/x-python",
   "name": "python",
   "nbconvert_exporter": "python",
   "pygments_lexer": "ipython3",
   "version": "3.13.7"
  }
 },
 "nbformat": 4,
 "nbformat_minor": 5
}
