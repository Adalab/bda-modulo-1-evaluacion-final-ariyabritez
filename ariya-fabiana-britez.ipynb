{
 "cells": [
  {
   "cell_type": "code",
   "execution_count": 97,
   "id": "3d4fe1fa",
   "metadata": {},
   "outputs": [],
   "source": [
    "inventario = {\"nombre\": [], \"precio\": [], \"cantidad\": []}\n"
   ]
  },
  {
   "cell_type": "code",
   "execution_count": 98,
   "id": "1ffa1478",
   "metadata": {},
   "outputs": [],
   "source": [
    "ventas_totales = 0"
   ]
  },
  {
   "cell_type": "code",
   "execution_count": 99,
   "id": "4f8080ba",
   "metadata": {},
   "outputs": [],
   "source": [
    "#2 FUNCIONES\n",
    "\n",
    "inventario = [\n",
    "    {'nombre': 'Camisa', 'precio': 20, 'cantidad': 40},\n",
    "    {'nombre': 'Pantalón', 'precio': 30, 'cantidad': 30},\n",
    "    {'nombre': 'Zapatos', 'precio': 50, 'cantidad': 25},\n",
    "    {'nombre': 'Chaqueta', 'precio': 70, 'cantidad': 15},\n",
    "    {'nombre': 'Falda', 'precio': 25, 'cantidad': 20},\n",
    "    {'nombre': 'Gorra', 'precio': 10, 'cantidad': 50},\n",
    "    {'nombre': 'Bufanda', 'precio': 15, 'cantidad': 35},\n",
    "    {'nombre': 'Calcetines', 'precio': 5, 'cantidad': 100},\n",
    "    {'nombre': 'Cinturón', 'precio': 12, 'cantidad': 40},\n",
    "    {'nombre': 'Bolso', 'precio': 45, 'cantidad': 18}\n",
    "    ]\n"
   ]
  },
  {
   "cell_type": "code",
   "execution_count": 100,
   "id": "0810dc45",
   "metadata": {},
   "outputs": [
    {
     "name": "stdout",
     "output_type": "stream",
     "text": [
      "Producto Pashmina agregado al inventario.\n"
     ]
    }
   ],
   "source": [
    "# agregar_producto(nombre, precio, cantidad):\n",
    "# Agrega un producto al inventario o actualiza su cantidad si ya existe. \n",
    "# Debe recibir el nombre, precio y cantidad del producto como parámetros. \n",
    "# Itera a través del inventario y compara los nombres de los productos con el nombre proporcionado.\n",
    "\n",
    "# Si el producto ya existe, actualiza la cantidad. \n",
    "# Si no existe, agrega un nuevo producto al inventario.\n",
    "\n",
    "\n",
    "def agregar_producto(nombre, precio, cantidad):\n",
    "    for producto in inventario:    #recorre todos los elementos de la lista diccionarios\n",
    "        if producto[\"nombre\"].strip().lower() == nombre.strip().lower():\n",
    "            producto[\"cantidad\"] += cantidad\n",
    "            print(f\"Producto {producto[\"nombre\"]}:{producto[\"cantidad\"]} actualizado en inventario\")\n",
    "            return   \n",
    "\n",
    "inventario.append({'nombre': 'Pashmina', 'precio': 25, 'cantidad': 8})\n",
    "print(f\"Producto {\"Pashmina\"} agregado al inventario.\")\n",
    "\n"
   ]
  },
  {
   "cell_type": "code",
   "execution_count": 101,
   "id": "7152da82",
   "metadata": {},
   "outputs": [
    {
     "name": "stdout",
     "output_type": "stream",
     "text": [
      "Nombre: Camisa\n",
      "Precio: 20\n",
      "Cantidad: 40\n",
      "-----\n",
      "Nombre: Pantalón\n",
      "Precio: 30\n",
      "Cantidad: 30\n",
      "-----\n",
      "Nombre: Zapatos\n",
      "Precio: 50\n",
      "Cantidad: 25\n",
      "-----\n",
      "Nombre: Chaqueta\n",
      "Precio: 70\n",
      "Cantidad: 15\n",
      "-----\n",
      "Nombre: Falda\n",
      "Precio: 25\n",
      "Cantidad: 20\n",
      "-----\n",
      "Nombre: Gorra\n",
      "Precio: 10\n",
      "Cantidad: 50\n",
      "-----\n",
      "Nombre: Bufanda\n",
      "Precio: 15\n",
      "Cantidad: 35\n",
      "-----\n",
      "Nombre: Calcetines\n",
      "Precio: 5\n",
      "Cantidad: 100\n",
      "-----\n",
      "Nombre: Cinturón\n",
      "Precio: 12\n",
      "Cantidad: 40\n",
      "-----\n",
      "Nombre: Bolso\n",
      "Precio: 45\n",
      "Cantidad: 18\n",
      "-----\n",
      "Nombre: Pashmina\n",
      "Precio: 25\n",
      "Cantidad: 8\n",
      "-----\n"
     ]
    }
   ],
   "source": [
    "# ver_inventario(): Muestra el inventario de productos con sus detalles.\n",
    "\n",
    "for producto in inventario:\n",
    "    print(\"Nombre:\", producto[\"nombre\"])\n",
    "    print(\"Precio:\", producto[\"precio\"])\n",
    "    print(\"Cantidad:\", producto[\"cantidad\"])\n",
    "    print (\"-----\")"
   ]
  },
  {
   "cell_type": "code",
   "execution_count": 102,
   "id": "83aac03f",
   "metadata": {},
   "outputs": [
    {
     "name": "stdout",
     "output_type": "stream",
     "text": [
      "Producto encontrado: Camisa, Precio: $20, Cantidad: 40\n"
     ]
    }
   ],
   "source": [
    "# EJ 3. buscar_producto(nombre): Busca un producto en el inventario por nombre y muestra sus detalles si se encuentra. \n",
    "# Debe recibir el nombre del producto como parámetro. \n",
    "# Utiliza un bucle for para recorrer el inventario. \n",
    "# Compara los nombres de los productos con el nombre proporcionado. \n",
    "# Si se encuentra el producto, imprime sus detalles.\n",
    "# Debe mostrar: Nombre: Camisa, Precio: $20, Cantidad: 40\n",
    "\n",
    "nombre_proporcionado = \"Camisa\"\n",
    "\n",
    "for producto in inventario:\n",
    "    if producto[\"nombre\"].strip().lower() == nombre_proporcionado.strip().lower():\n",
    "        print(f\"Producto encontrado: {producto[\"nombre\"]}, Precio: ${producto['precio']}, Cantidad: {producto['cantidad']}\")\n",
    "        break\n",
    "\n",
    "else:\n",
    "    print(\"Producto no encontrado.\")\n"
   ]
  },
  {
   "cell_type": "code",
   "execution_count": 103,
   "id": "7e6b1a05",
   "metadata": {},
   "outputs": [
    {
     "name": "stdout",
     "output_type": "stream",
     "text": [
      "Stock actualizado. Nuevo stock de Gorra: 67\n",
      "[{'nombre': 'Camisa', 'precio': 20, 'cantidad': 40}, {'nombre': 'Pantalón', 'precio': 30, 'cantidad': 30}, {'nombre': 'Zapatos', 'precio': 50, 'cantidad': 25}, {'nombre': 'Chaqueta', 'precio': 70, 'cantidad': 15}, {'nombre': 'Falda', 'precio': 25, 'cantidad': 20}, {'nombre': 'Gorra', 'precio': 10, 'cantidad': 67}, {'nombre': 'Bufanda', 'precio': 15, 'cantidad': 35}, {'nombre': 'Calcetines', 'precio': 5, 'cantidad': 100}, {'nombre': 'Cinturón', 'precio': 12, 'cantidad': 40}, {'nombre': 'Bolso', 'precio': 45, 'cantidad': 18}, {'nombre': 'Pashmina', 'precio': 25, 'cantidad': 8}]\n"
     ]
    }
   ],
   "source": [
    "# EJ 4. actualizar_stock(nombre, cantidad): Actualiza el stock de un producto en el inventario.\n",
    "# Debe recibir el nombre del producto y la cantidad a agregar o quitar como parámetros.\n",
    "# Utiliza un bucle for para recorrer el inventario.\n",
    "# Busca el producto por nombre.\n",
    "# Actualiza la cantidad según la entrada del usuario.\n",
    "# Si el producto no esta en el inventario muestra un mensaje indicándolo.\n",
    "\n",
    "def actualizar_stock(nombre, cantidad):\n",
    "    for producto in inventario:\n",
    "        if producto[\"nombre\"].strip().lower() == nombre.strip().lower():\n",
    "            producto[\"cantidad\"] += cantidad\n",
    "            print(f\"Stock actualizado. Nuevo stock de {producto[\"nombre\"]}: {producto[\"cantidad\"]}\")\n",
    "            break\n",
    "    else:\n",
    "        print(\"Producto no encontrado en el inventario.\")\n",
    "\n",
    "actualizar_stock (\"Gorra\", 17)\n",
    "print (inventario)"
   ]
  },
  {
   "cell_type": "code",
   "execution_count": 104,
   "id": "7dd67754",
   "metadata": {},
   "outputs": [
    {
     "name": "stdout",
     "output_type": "stream",
     "text": [
      "Producto Pantalón eliminado con éxito\n",
      "[{'nombre': 'Camisa', 'precio': 20, 'cantidad': 40}, {'nombre': 'Zapatos', 'precio': 50, 'cantidad': 25}, {'nombre': 'Chaqueta', 'precio': 70, 'cantidad': 15}, {'nombre': 'Falda', 'precio': 25, 'cantidad': 20}, {'nombre': 'Gorra', 'precio': 10, 'cantidad': 67}, {'nombre': 'Bufanda', 'precio': 15, 'cantidad': 35}, {'nombre': 'Calcetines', 'precio': 5, 'cantidad': 100}, {'nombre': 'Cinturón', 'precio': 12, 'cantidad': 40}, {'nombre': 'Bolso', 'precio': 45, 'cantidad': 18}, {'nombre': 'Pashmina', 'precio': 25, 'cantidad': 8}]\n"
     ]
    }
   ],
   "source": [
    "# EJ 5. eliminar_producto(nombre): Elimina un producto del inventario por nombre. \n",
    "# Debe recibir el nombre del producto como parámetro.\n",
    "# Utiliza un bucle for para recorrer el inventario.\n",
    "# Busca el producto por nombre.\n",
    "# Elimina el producto del inventario si existe.\n",
    "# Si el producto no esta en el inventario muestra un mensaje indicándolo.\n",
    "\n",
    "def eliminar_producto (nombre):\n",
    "    for producto in inventario:\n",
    "        if producto [\"nombre\"].strip().lower() == nombre.strip().lower():\n",
    "            inventario.remove(producto)\n",
    "            print (f\"Producto {producto[\"nombre\"]} eliminado con éxito\")\n",
    "            break\n",
    "\n",
    "eliminar_producto (\"Pantalón\")\n",
    "print (inventario)\n"
   ]
  },
  {
   "cell_type": "code",
   "execution_count": 105,
   "id": "901a6ca0",
   "metadata": {},
   "outputs": [
    {
     "name": "stdout",
     "output_type": "stream",
     "text": [
      "Camisa:40 unidades x 20€ = 800€\n",
      "Zapatos:25 unidades x 50€ = 1250€\n",
      "Chaqueta:15 unidades x 70€ = 1050€\n",
      "Falda:20 unidades x 25€ = 500€\n",
      "Gorra:67 unidades x 10€ = 670€\n",
      "Bufanda:35 unidades x 15€ = 525€\n",
      "Calcetines:100 unidades x 5€ = 500€\n",
      "Cinturón:40 unidades x 12€ = 480€\n",
      "Bolso:18 unidades x 45€ = 810€\n",
      "Pashmina:8 unidades x 25€ = 200€\n",
      "\n",
      "Valor total del inventario: 6785€\n"
     ]
    }
   ],
   "source": [
    "# EJ 6. calcular_valor_inventario(): Calcula y muestra el valor total del inventario.\n",
    "# Utiliza un bucle for para calcular el valor total del inventario.\n",
    "# Itera a través del inventario y suma el valor de cada producto (precio x cantidad). \n",
    "# Es decir, calcula el valor total del inventario. \n",
    "\n",
    "def calcular_valor_inventario():\n",
    "    valor_total = 0  #este valor irá sumando todos los valores de cada producto (total acumulado)\n",
    "\n",
    "    for producto in inventario:\n",
    "        valor_producto = producto[\"precio\"]*producto[\"cantidad\"]\n",
    "        valor_total += valor_producto                #suma el valor al total acumulado\n",
    "        print(f\"{producto[\"nombre\"]}:{producto[\"cantidad\"]} unidades x {producto[\"precio\"]}€ = {valor_producto}€\")\n",
    "\n",
    "    print(f\"\\nValor total del inventario: {valor_total}€\")\n",
    "\n",
    "calcular_valor_inventario()"
   ]
  },
  {
   "cell_type": "code",
   "execution_count": 106,
   "id": "074fab0f",
   "metadata": {},
   "outputs": [
    {
     "name": "stdout",
     "output_type": "stream",
     "text": [
      "\n",
      "🧾 INVENTARIO:\n",
      "- Camisa: 40 disponibles a 20€\n",
      "- Zapatos: 25 disponibles a 50€\n",
      "- Chaqueta: 15 disponibles a 70€\n",
      "- Falda: 20 disponibles a 25€\n",
      "- Gorra: 67 disponibles a 10€\n",
      "- Bufanda: 35 disponibles a 15€\n",
      "- Calcetines: 100 disponibles a 5€\n",
      "- Cinturón: 40 disponibles a 12€\n",
      "- Bolso: 18 disponibles a 45€\n",
      "- Pashmina: 8 disponibles a 25€\n",
      "⚠️ Formato inválido (ej: Camisa 2)\n",
      "\n",
      "🧾 INVENTARIO:\n",
      "- Camisa: 40 disponibles a 20€\n",
      "- Zapatos: 25 disponibles a 50€\n",
      "- Chaqueta: 15 disponibles a 70€\n",
      "- Falda: 20 disponibles a 25€\n",
      "- Gorra: 67 disponibles a 10€\n",
      "- Bufanda: 35 disponibles a 15€\n",
      "- Calcetines: 100 disponibles a 5€\n",
      "- Cinturón: 40 disponibles a 12€\n",
      "- Bolso: 18 disponibles a 45€\n",
      "- Pashmina: 8 disponibles a 25€\n",
      "🛒 40 x Camisa agregado.\n",
      "\n",
      "🧾 INVENTARIO:\n",
      "- Camisa: 0 disponibles a 20€\n",
      "- Zapatos: 25 disponibles a 50€\n",
      "- Chaqueta: 15 disponibles a 70€\n",
      "- Falda: 20 disponibles a 25€\n",
      "- Gorra: 67 disponibles a 10€\n",
      "- Bufanda: 35 disponibles a 15€\n",
      "- Calcetines: 100 disponibles a 5€\n",
      "- Cinturón: 40 disponibles a 12€\n",
      "- Bolso: 18 disponibles a 45€\n",
      "- Pashmina: 8 disponibles a 25€\n",
      "🛒 50 x Calcetines agregado.\n",
      "\n",
      "🧾 INVENTARIO:\n",
      "- Camisa: 0 disponibles a 20€\n",
      "- Zapatos: 25 disponibles a 50€\n",
      "- Chaqueta: 15 disponibles a 70€\n",
      "- Falda: 20 disponibles a 25€\n",
      "- Gorra: 67 disponibles a 10€\n",
      "- Bufanda: 35 disponibles a 15€\n",
      "- Calcetines: 50 disponibles a 5€\n",
      "- Cinturón: 40 disponibles a 12€\n",
      "- Bolso: 18 disponibles a 45€\n",
      "- Pashmina: 8 disponibles a 25€\n",
      "🛒 8 x Bolso agregado.\n",
      "\n",
      "🧾 INVENTARIO:\n",
      "- Camisa: 0 disponibles a 20€\n",
      "- Zapatos: 25 disponibles a 50€\n",
      "- Chaqueta: 15 disponibles a 70€\n",
      "- Falda: 20 disponibles a 25€\n",
      "- Gorra: 67 disponibles a 10€\n",
      "- Bufanda: 35 disponibles a 15€\n",
      "- Calcetines: 50 disponibles a 5€\n",
      "- Cinturón: 40 disponibles a 12€\n",
      "- Bolso: 10 disponibles a 45€\n",
      "- Pashmina: 8 disponibles a 25€\n",
      "\n",
      "🧾 RESUMEN DE COMPRA:\n",
      "- Camisa: 40 unidades = 800€\n",
      "- Calcetines: 50 unidades = 250€\n",
      "- Bolso: 8 unidades = 360€\n",
      "\n",
      "💰 TOTAL A PAGAR: 1410€\n"
     ]
    }
   ],
   "source": [
    "# EJ 7. realizar_compra(): Permite a un cliente realizar una compra seleccionando productos del inventario.\n",
    "# Debe interactuar con el cliente para seleccionar productos y calcular el costo total de la compra.\n",
    "# Utiliza un bucle while para permitir al cliente realizar múltiples compras.\n",
    "# Muestra el inventario y solicita al cliente ingresar el nombre del producto que desea comprar.\n",
    "# Registra los productos seleccionados en un carrito y actualiza el inventario.\n",
    "# Calcula el costo total de la compra.\n",
    "\n",
    "def realizar_compra():\n",
    "    carrito, total = [], 0\n",
    "    while True:\n",
    "        print(\"\\n🧾 INVENTARIO:\")\n",
    "        for p in inventario:\n",
    "            print(f\"- {p['nombre']}: {p['cantidad']} disponibles a {p['precio']}€\")\n",
    "        entrada = input(\"\\nIngrese producto y cantidad (ej: Camisa 2) o 'salir': \").strip()\n",
    "        if entrada.lower() == \"salir\": break                #finaliza la busqueda.\n",
    "        try:                                                #con esto controlo el posible error en caso de nro float\n",
    "            nombre, cantidad = entrada.rsplit(\" \", 1)       #para dividir empezando x la derecha, para separar string de nro (por eso 1) \n",
    "            cantidad = int(cantidad)                           # int para convertir a nro entero\n",
    "        except ValueError:                                     #si falla algun dato ingresado o la conversion arroja mens\n",
    "            print(\"⚠️ Formato inválido (ej: Camisa 2)\"); continue\n",
    "        for p in inventario:                                    # otra vez recorro la lista de dict, busca coincidencia\n",
    "            if p[\"nombre\"].lower() == nombre.lower():           # compara nombre producto ignorando mayus/minus\n",
    "                if cantidad <= p[\"cantidad\"]:                   # si hay stock: cantidad es mayor o igual a cant del prod en invent\n",
    "                    p[\"cantidad\"] -= cantidad                       # resta el stock segun compra del cliente\n",
    "                    subtotal = cantidad * p[\"precio\"]               # arroja el subtotal segun la compra del cliente\n",
    "                    carrito.append({\"nombre\": p[\"nombre\"], \"cantidad\": cantidad, \"subtotal\": subtotal})   #agrega al carrito los items seleccionados y sus cantidades, y subtotal\n",
    "                    total += subtotal                               # suma el totAL De la compra\n",
    "                    print(f\"🛒 {cantidad} x {p['nombre']} agregado.\")      #confirma al cliente lo añadido al carrito\n",
    "                else:                                               # si no hay stock suficiente:\n",
    "                    print(f\"❌ Solo hay {p['cantidad']} disponibles de {p['nombre']}.\")\n",
    "                break\n",
    "        else:                                                       # si no reconoce el producto introducido:\n",
    "            print(\"⚠️ Producto no encontrado.\")\n",
    "    print(\"\\n🧾 RESUMEN DE COMPRA:\")                                \n",
    "    for item in carrito:                            \n",
    "        print(f\"- {item['nombre']}: {item['cantidad']} unidades = {item['subtotal']}€\")  #linea de c/ producto con subtotal\n",
    "    print(f\"\\n💰 TOTAL A PAGAR: {total}€\")                              # resumen final con precio a pagar\n",
    "\n",
    "realizar_compra()    # Ejecutar la función\n"
   ]
  }
 ],
 "metadata": {
  "kernelspec": {
   "display_name": "Python 3",
   "language": "python",
   "name": "python3"
  },
  "language_info": {
   "codemirror_mode": {
    "name": "ipython",
    "version": 3
   },
   "file_extension": ".py",
   "mimetype": "text/x-python",
   "name": "python",
   "nbconvert_exporter": "python",
   "pygments_lexer": "ipython3",
   "version": "3.13.7"
  }
 },
 "nbformat": 4,
 "nbformat_minor": 5
}
